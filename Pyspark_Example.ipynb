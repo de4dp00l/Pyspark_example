{
 "cells": [
  {
   "cell_type": "code",
   "execution_count": 54,
   "id": "41bdb442",
   "metadata": {},
   "outputs": [],
   "source": [
    "import pyspark\n",
    "from pyspark.sql import Row\n",
    "from pyspark import SQLContext"
   ]
  },
  {
   "cell_type": "code",
   "execution_count": 55,
   "id": "79067436",
   "metadata": {},
   "outputs": [
    {
     "data": {
      "text/html": [
       "<style>pre { white-space: pre !important; }</style>"
      ],
      "text/plain": [
       "<IPython.core.display.HTML object>"
      ]
     },
     "metadata": {},
     "output_type": "display_data"
    }
   ],
   "source": [
    "from IPython.core.display import HTML\n",
    "display(HTML(\"<style>pre { white-space: pre !important; }</style>\"))"
   ]
  },
  {
   "cell_type": "code",
   "execution_count": 56,
   "id": "f4e21c34",
   "metadata": {},
   "outputs": [],
   "source": [
    "def inputValues(values):\n",
    "    replace_new_line = values.replace('\\n', ',')     # replace new line with comma\n",
    "    input_value_to_list = replace_new_line.split(',')       # input values to list\n",
    "    result = [x for x in input_value_to_list if x]      # remove empty space in list\n",
    "    #result = [eval(i) for i in input_to_list]        # convert list from string to integer\n",
    "    return result"
   ]
  },
  {
   "cell_type": "code",
   "execution_count": 57,
   "id": "c39e683e",
   "metadata": {},
   "outputs": [],
   "source": [
    "sc = SparkSession.builder.getOrCreate()\n",
    "sqlContext = SQLContext(sc)"
   ]
  },
  {
   "cell_type": "code",
   "execution_count": 58,
   "id": "51bfbb19",
   "metadata": {},
   "outputs": [],
   "source": [
    "cars = sqlContext.read.format('com.github.saurfang.sas.spark').load(r'dataset/cars.sas7bdat')"
   ]
  },
  {
   "cell_type": "code",
   "execution_count": 59,
   "id": "c8684e57",
   "metadata": {},
   "outputs": [
    {
     "name": "stdout",
     "output_type": "stream",
     "text": [
      "+------+------------+-------+-----+------+---------+----------+---------+-------+------+---+---+------+\n",
      "| Brand|       Model|Minivan|Wagon|Pickup|Automatic|EngineSize|Cylinders|CityMPG|HwyMPG|SUV|AWD|Hybrid|\n",
      "+------+------------+-------+-----+------+---------+----------+---------+-------+------+---+---+------+\n",
      "|TOYOTA|       Prius|    0.0|  0.0|   0.0|      1.0|       1.5|      4.0|   60.0|  51.0|0.0|0.0|   1.0|\n",
      "| HONDA|Civic Hybrid|    0.0|  0.0|   0.0|      1.0|       1.3|      4.0|   48.0|  47.0|0.0|0.0|   1.0|\n",
      "| HONDA|Civic Hybrid|    0.0|  0.0|   0.0|      1.0|       1.3|      4.0|   47.0|  48.0|0.0|0.0|   1.0|\n",
      "| HONDA|Civic Hybrid|    0.0|  0.0|   0.0|      0.0|       1.3|      4.0|   46.0|  51.0|0.0|0.0|   1.0|\n",
      "| HONDA|Civic Hybrid|    0.0|  0.0|   0.0|      0.0|       1.3|      4.0|   45.0|  51.0|0.0|0.0|   1.0|\n",
      "+------+------------+-------+-----+------+---------+----------+---------+-------+------+---+---+------+\n",
      "only showing top 5 rows\n",
      "\n"
     ]
    }
   ],
   "source": [
    "cars.show(5)"
   ]
  },
  {
   "cell_type": "code",
   "execution_count": 60,
   "id": "cb93a412",
   "metadata": {},
   "outputs": [],
   "source": [
    "values = '''\n",
    "TOYOTA\n",
    "HONDA\n",
    "VOLKSWAGEN\n",
    "'''\n",
    "\n",
    "searchdata = inputValues(values)"
   ]
  },
  {
   "cell_type": "code",
   "execution_count": 61,
   "id": "cd8ff3c7",
   "metadata": {},
   "outputs": [],
   "source": [
    "filtering = cars.filter(cars.Brand.isin(searchdata))\n",
    "filtering = filtering.select(filtering['Brand'], filtering['Model'], filtering['EngineSize'])"
   ]
  },
  {
   "cell_type": "code",
   "execution_count": 62,
   "id": "61cecb5e",
   "metadata": {},
   "outputs": [],
   "source": [
    "filtering_sql = filtering.createOrReplaceTempView('filtering')"
   ]
  },
  {
   "cell_type": "code",
   "execution_count": 67,
   "id": "fede28aa",
   "metadata": {},
   "outputs": [],
   "source": [
    "filtering_sql_1 = spark.sql('select * from filtering where EngineSize > 1.3') #Untuk export ke pandas\n",
    "#spark.sql('select * from filtering where EngineSize > 1.3').show(50) #Hanya menampilkan table, tidak bisa export ke pandasabs"
   ]
  },
  {
   "cell_type": "code",
   "execution_count": 69,
   "id": "e6aa0e57",
   "metadata": {},
   "outputs": [],
   "source": [
    "cars_df = filtering_sql_1.toPandas()"
   ]
  },
  {
   "cell_type": "code",
   "execution_count": 70,
   "id": "76ebae54",
   "metadata": {},
   "outputs": [
    {
     "data": {
      "text/html": [
       "<div>\n",
       "<style scoped>\n",
       "    .dataframe tbody tr th:only-of-type {\n",
       "        vertical-align: middle;\n",
       "    }\n",
       "\n",
       "    .dataframe tbody tr th {\n",
       "        vertical-align: top;\n",
       "    }\n",
       "\n",
       "    .dataframe thead th {\n",
       "        text-align: right;\n",
       "    }\n",
       "</style>\n",
       "<table border=\"1\" class=\"dataframe\">\n",
       "  <thead>\n",
       "    <tr style=\"text-align: right;\">\n",
       "      <th></th>\n",
       "      <th>Brand</th>\n",
       "      <th>Model</th>\n",
       "      <th>EngineSize</th>\n",
       "    </tr>\n",
       "  </thead>\n",
       "  <tbody>\n",
       "    <tr>\n",
       "      <th>0</th>\n",
       "      <td>TOYOTA</td>\n",
       "      <td>Prius</td>\n",
       "      <td>1.5</td>\n",
       "    </tr>\n",
       "    <tr>\n",
       "      <th>1</th>\n",
       "      <td>VOLKSWAGEN</td>\n",
       "      <td>Golf</td>\n",
       "      <td>1.9</td>\n",
       "    </tr>\n",
       "    <tr>\n",
       "      <th>2</th>\n",
       "      <td>VOLKSWAGEN</td>\n",
       "      <td>Jetta</td>\n",
       "      <td>1.9</td>\n",
       "    </tr>\n",
       "    <tr>\n",
       "      <th>3</th>\n",
       "      <td>VOLKSWAGEN</td>\n",
       "      <td>New Beetle</td>\n",
       "      <td>1.9</td>\n",
       "    </tr>\n",
       "    <tr>\n",
       "      <th>4</th>\n",
       "      <td>HONDA</td>\n",
       "      <td>Civic</td>\n",
       "      <td>1.7</td>\n",
       "    </tr>\n",
       "  </tbody>\n",
       "</table>\n",
       "</div>"
      ],
      "text/plain": [
       "        Brand       Model  EngineSize\n",
       "0      TOYOTA       Prius         1.5\n",
       "1  VOLKSWAGEN        Golf         1.9\n",
       "2  VOLKSWAGEN       Jetta         1.9\n",
       "3  VOLKSWAGEN  New Beetle         1.9\n",
       "4       HONDA       Civic         1.7"
      ]
     },
     "execution_count": 70,
     "metadata": {},
     "output_type": "execute_result"
    }
   ],
   "source": [
    "cars_df.head(5)"
   ]
  },
  {
   "cell_type": "code",
   "execution_count": 71,
   "id": "c1fb0f9b",
   "metadata": {},
   "outputs": [],
   "source": [
    "export = cars_df.to_excel('cars_filter.xlsx', index=False)"
   ]
  },
  {
   "cell_type": "code",
   "execution_count": null,
   "id": "dcfe1a98",
   "metadata": {},
   "outputs": [],
   "source": []
  }
 ],
 "metadata": {
  "kernelspec": {
   "display_name": "Python 3 (ipykernel)",
   "language": "python",
   "name": "python3"
  },
  "language_info": {
   "codemirror_mode": {
    "name": "ipython",
    "version": 3
   },
   "file_extension": ".py",
   "mimetype": "text/x-python",
   "name": "python",
   "nbconvert_exporter": "python",
   "pygments_lexer": "ipython3",
   "version": "3.10.4"
  }
 },
 "nbformat": 4,
 "nbformat_minor": 5
}
